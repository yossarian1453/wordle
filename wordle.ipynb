{
 "cells": [
  {
   "cell_type": "code",
   "execution_count": 4,
   "id": "0931a5b3",
   "metadata": {},
   "outputs": [],
   "source": [
    "import pandas as pd\n",
    "from english_words import english_words_lower_alpha_set\n",
    "import pandasql as ps\n",
    "import re\n",
    "\n",
    "words = pd.DataFrame(english_words_lower_alpha_set)\n",
    "\n",
    "url = 'https://gist.githubusercontent.com/scholtes/94f3c0303ba6a7768b47583aff36654d/raw/d9cddf5e16140df9e14f19c2de76a0ef36fd2748/wordle-La.txt'\n",
    "\n",
    "\n",
    "wordle_words = pd.read_csv(url,names=[\"words\"])\n",
    "\n",
    "words.rename(columns = {list(words)[0]: 'words'}, inplace = True)\n",
    "\n",
    "words_filter = (words['words'].str.len() == 5)\n",
    "\n",
    "words_df = words.loc[words_filter]\n",
    "\n",
    "alphabet_list = ['a','b','c','d','e','d','f','g','h','i','j','k','l','m','n','o','p','q','r','s','t','u','v','w','x','y','z']\n",
    "\n",
    "\n",
    "\n"
   ]
  },
  {
   "cell_type": "code",
   "execution_count": 41,
   "id": "f58890db",
   "metadata": {
    "scrolled": true
   },
   "outputs": [
    {
     "data": {
      "text/plain": [
       "['ai']"
      ]
     },
     "execution_count": 41,
     "metadata": {},
     "output_type": "execute_result"
    }
   ],
   "source": [
    "guess_1_green_letter = ''\n",
    "guess_1_green_letter = guess_1_green_letter.replace('-', '_')\n",
    "\n",
    "guess_1_yellow = 'a-i--'\n",
    "guess_1_yellow = '[' + guess_1_yellow.replace('-', '') + ']'\n",
    "\n",
    "\n",
    "wordle_words = wordle_words[wordle_words['words'].str.contains('', regex=False)]\n",
    "\n",
    "guess_1_yellow = 'a-i--'\n",
    "# guess_1_yellow_query = guess_1_yellow.replace('-', '_')\n",
    "guess_1_yellow_df = guess_1_yellow.replace('-','')\n",
    "guess_1_yellow_df = re.sub(r'([a-z])(?!$)', r'\\1,', guess_1_yellow_df)\n",
    "guess_1_yellow_df = guess_1_yellow_df.split(\",\")\n",
    "len(guess_1_yellow_df)\n",
    "\n",
    "# cities = ['New York', 'Beijing', 'Cairo', 'Mumbai', 'Mexico']\n",
    "\n",
    "# for city in cities:\n",
    "#     print(city)\n",
    "\n",
    "for letters in guess_1_yellow_df:\n",
    "    df = wordle_words[wordle_words['words'].str.contains(letters, regex=False)]\n",
    "\n",
    "guess_2_yellow_df = ','.join(guess_1_yellow)\n",
    "guess_2_yellow_df = guess_2_yellow_df.split(\",\")\n",
    "guess_2_yellow_isin = '[' + guess_1_yellow.replace('-', '') + ']'\n",
    "\n",
    "guess_1_yellow_df"
   ]
  },
  {
   "cell_type": "code",
   "execution_count": 182,
   "id": "f470bfc1",
   "metadata": {},
   "outputs": [
    {
     "name": "stdout",
     "output_type": "stream",
     "text": [
      "The word axiom will be used as an example.\n",
      "Please fill out green letters like this: -x--m\n",
      "If you didn't guess any green letters, just hit enter\n",
      "First Guess Green Letters >\n",
      "List yellow leters like this: a-i--\n",
      "First Guess Yellow Letters >\n",
      "List grey leters like this: xom\n",
      "First Guess grey Letters >\n"
     ]
    },
    {
     "data": {
      "text/html": [
       "<div>\n",
       "<style scoped>\n",
       "    .dataframe tbody tr th:only-of-type {\n",
       "        vertical-align: middle;\n",
       "    }\n",
       "\n",
       "    .dataframe tbody tr th {\n",
       "        vertical-align: top;\n",
       "    }\n",
       "\n",
       "    .dataframe thead th {\n",
       "        text-align: right;\n",
       "    }\n",
       "</style>\n",
       "<table border=\"1\" class=\"dataframe\">\n",
       "  <thead>\n",
       "    <tr style=\"text-align: right;\">\n",
       "      <th></th>\n",
       "      <th>words</th>\n",
       "    </tr>\n",
       "  </thead>\n",
       "  <tbody>\n",
       "  </tbody>\n",
       "</table>\n",
       "</div>"
      ],
      "text/plain": [
       "Empty DataFrame\n",
       "Columns: [words]\n",
       "Index: []"
      ]
     },
     "execution_count": 182,
     "metadata": {},
     "output_type": "execute_result"
    }
   ],
   "source": [
    "print('The word axiom will be used as an example.')\n",
    "print('Please fill out green letters like this: -x--m')\n",
    "print('If you didn\\'t guess any green letters, just hit enter')\n",
    "print('First Guess Green Letters >')\n",
    "guess_1_green_letter = ''\n",
    "guess_1_green_letter = guess_1_green_letter.replace('-', '_')\n",
    "\n",
    "print('List yellow leters like this: a-i--')\n",
    "print('First Guess Yellow Letters >')\n",
    "guess_1_yellow = 'a-i--'\n",
    "guess_1_yellow_query = guess_1_yellow.replace('-', '_')\n",
    "# guess_1_yellow_df = guess_1_yellow.replace('-','')\n",
    "guess_1_yellow_df = re.sub(r'([a-z])(?!$)', r'\\1,', guess_1_yellow)\n",
    "guess_1_yellow_df = guess_1_yellow_df.split(\",\")\n",
    "\n",
    "print('List grey leters like this: xom')\n",
    "print('First Guess grey Letters >')\n",
    "guess_1_grey = \n",
    "guess_1_grey = re.sub(r'([a-z])(?!$)', r'\\1,', guess_1_grey)\n",
    "guess_1_grey = guess_1_grey.split(\",\")\n",
    "\n"
   ]
  },
  {
   "cell_type": "code",
   "execution_count": 164,
   "id": "c6cce1a1",
   "metadata": {},
   "outputs": [],
   "source": [
    "guess_1_yellow = 'a-i--'\n",
    "guess_1_yellow_query = guess_1_yellow.replace('-', '_')\n",
    "guess_1_yellow_df = guess_1_yellow.replace('-','')\n",
    "guess_1_yellow_df = re.sub(r'([a-z])(?!$)', r'\\1,', guess_1_yellow_df)\n",
    "guess_1_yellow_df = guess_1_yellow_df.split(\",\")\n",
    "words_df1_green \n",
    "\n",
    "\n",
    "q2 = \"\"\"\n",
    "    SELECT * \n",
    "    FROM words_df1_green\n",
    "    WHERE words not like 'a%'\n",
    "        AND words not like '__e__'\n",
    "    \"\"\"\n",
    "words_df1_yellow_first_pass = ps.sqldf(q2, locals())\n",
    "\n",
    "words_df1_yellow_first_pass.to_csv('words_df1_yellow_first_pass.csv')\n"
   ]
  },
  {
   "cell_type": "code",
   "execution_count": 175,
   "id": "2da5f8c2",
   "metadata": {},
   "outputs": [],
   "source": [
    "def position_locater(cars):\n",
    "  for i in cars:\n",
    "    position = cars.find(i)\n",
    "    print(position)"
   ]
  },
  {
   "cell_type": "code",
   "execution_count": 179,
   "id": "f2d0f99f",
   "metadata": {},
   "outputs": [],
   "source": [
    "position_locater(guess_1_yellow)"
   ]
  },
  {
   "cell_type": "code",
   "execution_count": 200,
   "id": "ed04355e",
   "metadata": {},
   "outputs": [
    {
     "data": {
      "text/plain": [
       "['a', '-', 'i', '-', '-']"
      ]
     },
     "execution_count": 200,
     "metadata": {},
     "output_type": "execute_result"
    }
   ],
   "source": [
    "guess_1_yellow = 'a-i--'\n",
    "guess_1_yellow_df = ','.join(guess_1_yellow)\n",
    "guess_1_yellow_df = guess_1_yellow_df.split(\",\")\n",
    "guess_1_yellow_df"
   ]
  },
  {
   "cell_type": "code",
   "execution_count": 21,
   "id": "188e70b1",
   "metadata": {},
   "outputs": [],
   "source": [
    "# yellow_position_1 = 'WHERE words NOT LIKE ' + guess_1_yellow_df[0] + '____'\n",
    "# query1 = f\"\"\"\n",
    "#     SELECT * \n",
    "#     FROM words_df1_green\n",
    "#     WHERE words NOT LIKE 'a____'\n",
    "#     \"\"\"\n",
    "# words_yellow_df1 = ps.sqldf(query1, locals())\n",
    "# # words_yellow_df1"
   ]
  },
  {
   "cell_type": "code",
   "execution_count": 249,
   "id": "d7dac8bb",
   "metadata": {},
   "outputs": [
    {
     "data": {
      "text/html": [
       "<div>\n",
       "<style scoped>\n",
       "    .dataframe tbody tr th:only-of-type {\n",
       "        vertical-align: middle;\n",
       "    }\n",
       "\n",
       "    .dataframe tbody tr th {\n",
       "        vertical-align: top;\n",
       "    }\n",
       "\n",
       "    .dataframe thead th {\n",
       "        text-align: right;\n",
       "    }\n",
       "</style>\n",
       "<table border=\"1\" class=\"dataframe\">\n",
       "  <thead>\n",
       "    <tr style=\"text-align: right;\">\n",
       "      <th></th>\n",
       "      <th>words</th>\n",
       "    </tr>\n",
       "  </thead>\n",
       "  <tbody>\n",
       "    <tr>\n",
       "      <th>207</th>\n",
       "      <td>cello</td>\n",
       "    </tr>\n",
       "    <tr>\n",
       "      <th>223</th>\n",
       "      <td>check</td>\n",
       "    </tr>\n",
       "    <tr>\n",
       "      <th>224</th>\n",
       "      <td>cheek</td>\n",
       "    </tr>\n",
       "    <tr>\n",
       "      <th>225</th>\n",
       "      <td>cheer</td>\n",
       "    </tr>\n",
       "    <tr>\n",
       "      <th>226</th>\n",
       "      <td>chess</td>\n",
       "    </tr>\n",
       "    <tr>\n",
       "      <th>...</th>\n",
       "      <td>...</td>\n",
       "    </tr>\n",
       "    <tr>\n",
       "      <th>2162</th>\n",
       "      <td>wrote</td>\n",
       "    </tr>\n",
       "    <tr>\n",
       "      <th>2164</th>\n",
       "      <td>wryly</td>\n",
       "    </tr>\n",
       "    <tr>\n",
       "      <th>2168</th>\n",
       "      <td>yield</td>\n",
       "    </tr>\n",
       "    <tr>\n",
       "      <th>2170</th>\n",
       "      <td>youth</td>\n",
       "    </tr>\n",
       "    <tr>\n",
       "      <th>2172</th>\n",
       "      <td>zesty</td>\n",
       "    </tr>\n",
       "  </tbody>\n",
       "</table>\n",
       "<p>1075 rows × 1 columns</p>\n",
       "</div>"
      ],
      "text/plain": [
       "      words\n",
       "207   cello\n",
       "223   check\n",
       "224   cheek\n",
       "225   cheer\n",
       "226   chess\n",
       "...     ...\n",
       "2162  wrote\n",
       "2164  wryly\n",
       "2168  yield\n",
       "2170  youth\n",
       "2172  zesty\n",
       "\n",
       "[1075 rows x 1 columns]"
      ]
     },
     "execution_count": 249,
     "metadata": {},
     "output_type": "execute_result"
    }
   ],
   "source": [
    "guess_1_grey = 'bag'\n",
    "guess_1_grey = '[' + guess_1_grey + ']'\n",
    "second_guess_df = words_yellow_df1[~words_yellow_df1['words'].str.contains(guess_1_grey, regex=True)]\n",
    "second_guess_df"
   ]
  },
  {
   "cell_type": "code",
   "execution_count": 250,
   "id": "ad9453c0",
   "metadata": {},
   "outputs": [
    {
     "data": {
      "text/plain": [
       "'[bag]'"
      ]
     },
     "execution_count": 250,
     "metadata": {},
     "output_type": "execute_result"
    }
   ],
   "source": [
    "guess_1_grey"
   ]
  },
  {
   "cell_type": "code",
   "execution_count": 252,
   "id": "01d0a5c1",
   "metadata": {},
   "outputs": [
    {
     "data": {
      "text/plain": [
       "'[bgel]'"
      ]
     },
     "execution_count": 252,
     "metadata": {},
     "output_type": "execute_result"
    }
   ],
   "source": [
    "guess_2_grey"
   ]
  },
  {
   "cell_type": "code",
   "execution_count": null,
   "id": "5432b01b",
   "metadata": {},
   "outputs": [],
   "source": []
  }
 ],
 "metadata": {
  "kernelspec": {
   "display_name": "Python 3 (ipykernel)",
   "language": "python",
   "name": "python3"
  },
  "language_info": {
   "codemirror_mode": {
    "name": "ipython",
    "version": 3
   },
   "file_extension": ".py",
   "mimetype": "text/x-python",
   "name": "python",
   "nbconvert_exporter": "python",
   "pygments_lexer": "ipython3",
   "version": "3.9.13"
  }
 },
 "nbformat": 4,
 "nbformat_minor": 5
}
